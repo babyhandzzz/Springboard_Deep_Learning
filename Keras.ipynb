{
 "metadata": {
  "language_info": {
   "codemirror_mode": {
    "name": "ipython",
    "version": 3
   },
   "file_extension": ".py",
   "mimetype": "text/x-python",
   "name": "python",
   "nbconvert_exporter": "python",
   "pygments_lexer": "ipython3",
   "version": 3
  },
  "orig_nbformat": 2,
  "kernelspec": {
   "name": "python_defaultSpec_1596455353290",
   "display_name": "Python 3.7.6 64-bit ('base': conda)"
  }
 },
 "nbformat": 4,
 "nbformat_minor": 2,
 "cells": [
  {
   "cell_type": "code",
   "execution_count": 57,
   "metadata": {
    "tags": []
   },
   "outputs": [],
   "source": [
    "from keras.preprocessing.text import Tokenizer\n",
    "from tensorflow.keras.models import Sequential\n",
    "from keras.preprocessing.sequence import pad_sequences\n",
    "from keras.utils import to_categorical\n",
    "from keras.layers import Embedding\n",
    "from keras.models import Sequential\n",
    "from keras.layers import Flatten, Dense\n",
    "from tensorflow.keras.layers import LSTM\n",
    "from keras.layers import Embedding\n",
    "import pandas as pd\n",
    "import numpy as np"
   ]
  },
  {
   "cell_type": "code",
   "execution_count": 58,
   "metadata": {},
   "outputs": [],
   "source": [
    "df = pd.read_csv('/Users/babyhandzzz/Desktop/ELEPH@NT/Datasets/clean_IMDB.csv',usecols=['text','label'])\n",
    "glove_path = '/Users/babyhandzzz/Desktop/ELEPH@NT/Datasets'"
   ]
  },
  {
   "cell_type": "code",
   "execution_count": 59,
   "metadata": {},
   "outputs": [],
   "source": [
    "# define tokenization method\n",
    "tokenizer = Tokenizer(nb_words=500)\n",
    "# fit tokenizer on the data\n",
    "tokenizer.fit_on_texts(df['text'])\n",
    "# generate sequences\n",
    "sequences = tokenizer.texts_to_sequences(df['text'])\n",
    "# unique number to word indexation\n",
    "word_index = tokenizer.word_index"
   ]
  },
  {
   "cell_type": "code",
   "execution_count": 61,
   "metadata": {},
   "outputs": [],
   "source": [
    "# padding all the vectors to the same lenght\n",
    "data = pad_sequences(sequences, maxlen=300)"
   ]
  },
  {
   "cell_type": "code",
   "execution_count": 62,
   "metadata": {},
   "outputs": [],
   "source": [
    "# OHE for data labels\n",
    "labels = to_categorical(np.asarray(df['label']))"
   ]
  },
  {
   "cell_type": "code",
   "execution_count": 63,
   "metadata": {
    "tags": []
   },
   "outputs": [
    {
     "output_type": "stream",
     "name": "stdout",
     "text": "Shape of data tensor: (50000, 300)\nShape of label tensor: (50000, 2)\n"
    }
   ],
   "source": [
    "print('Shape of data tensor:', data.shape)\n",
    "print('Shape of label tensor:', labels.shape)"
   ]
  },
  {
   "cell_type": "code",
   "execution_count": 64,
   "metadata": {},
   "outputs": [],
   "source": [
    "# Train Test Split\n",
    "indices = np.arange(data.shape[0]) \n",
    "np.random.shuffle(indices)\n",
    "data = data[indices]\n",
    "labels = labels[indices]\n",
    "nb_validation_samples = int(0.3 * data.shape[0])\n",
    "\n",
    "x_train = data[:-nb_validation_samples]\n",
    "y_train = labels[:-nb_validation_samples]\n",
    "x_val = data[-nb_validation_samples:]\n",
    "y_val = labels[-nb_validation_samples:]"
   ]
  },
  {
   "cell_type": "code",
   "execution_count": 65,
   "metadata": {
    "tags": []
   },
   "outputs": [
    {
     "output_type": "stream",
     "name": "stdout",
     "text": "Found 400000 word vectors.\n"
    }
   ],
   "source": [
    "# Dictionary that maps integer indexes to the correposnding vectors.\n",
    "embeddings_index = {}\n",
    "                                    # don't forget that glove file is a .txt file\n",
    "f = open(os.path.join(glove_path, 'glove.6B.50d.txt'))\n",
    "for line in f:\n",
    "    # split every value on space\n",
    "    values = line.split()\n",
    "    # the word itself is the first item in every line\n",
    "    word = values[0]\n",
    "    # the actual vector is the vector that follows the word\n",
    "    coefs = np.asarray(values[1:], dtype='float32')\n",
    "    # dictionary mapping of the words to their vectors\n",
    "    embeddings_index[word] = coefs\n",
    "f.close()\n",
    "\n",
    "print('Found %s word vectors.' % len(embeddings_index))"
   ]
  },
  {
   "cell_type": "code",
   "execution_count": 66,
   "metadata": {},
   "outputs": [],
   "source": [
    "# np.array matrix that \n",
    "embedding_matrix = np.zeros((len(word_index) + 1, 50))\n",
    "                # word index is a dictionary that contains tokenized words from the dataset\n",
    "for word, i in word_index.items():\n",
    "    embedding_vector = embeddings_index.get(word)\n",
    "    if embedding_vector is not None:\n",
    "        # words not found in embedding index will be all-zeros.\n",
    "        embedding_matrix[i] = embedding_vector\n",
    "\n",
    "# By doing all of this stuff we obtain a matrix with all the vectors that represent words from the vocabulary.        "
   ]
  },
  {
   "cell_type": "code",
   "execution_count": 74,
   "metadata": {
    "tags": []
   },
   "outputs": [
    {
     "output_type": "stream",
     "name": "stdout",
     "text": "Model: \"sequential_9\"\n_________________________________________________________________\nLayer (type)                 Output Shape              Param #   \n=================================================================\nembedding_15 (Embedding)     (None, 300, 50)           5304350   \n_________________________________________________________________\nflatten_9 (Flatten)          (None, 15000)             0         \n_________________________________________________________________\ndense_18 (Dense)             (None, 32)                480032    \n_________________________________________________________________\ndense_19 (Dense)             (None, 2)                 66        \n=================================================================\nTotal params: 5,784,448\nTrainable params: 480,098\nNon-trainable params: 5,304,350\n_________________________________________________________________\n"
    }
   ],
   "source": [
    "from keras.layers import InputLayer\n",
    "model = Sequential()\n",
    "model.add(Embedding(len(word_index), 50, input_length = 300,trainable=False)) \n",
    "model.add(Flatten())\n",
    "model.add(Dense(32, activation = \"relu\"))\n",
    "model.add(Dense(2, activation=\"sigmoid\")) \n",
    "model.compile(optimizer=\"adam\", loss=\"binary_crossentropy\", metrics=[\"acc\"])\n",
    "model.summary()"
   ]
  },
  {
   "cell_type": "code",
   "execution_count": 75,
   "metadata": {
    "tags": []
   },
   "outputs": [
    {
     "output_type": "stream",
     "name": "stdout",
     "text": "Epoch 1/2\n35000/35000 [==============================] - 7s 213us/step - loss: 0.6895 - acc: 0.5224\nEpoch 2/2\n35000/35000 [==============================] - 7s 190us/step - loss: 0.6280 - acc: 0.6328\n"
    },
    {
     "output_type": "execute_result",
     "data": {
      "text/plain": "<keras.callbacks.callbacks.History at 0x7febff0d3e10>"
     },
     "metadata": {},
     "execution_count": 75
    }
   ],
   "source": [
    "model.fit(x_train, y_train, epochs=2, batch_size=64)"
   ]
  }
 ]
}