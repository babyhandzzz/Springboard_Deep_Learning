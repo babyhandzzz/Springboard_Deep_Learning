{
 "cells": [
  {
   "cell_type": "code",
   "execution_count": 1,
   "metadata": {},
   "outputs": [],
   "source": [
    "import numpy as np"
   ]
  },
  {
   "cell_type": "code",
   "execution_count": 2,
   "metadata": {},
   "outputs": [],
   "source": [
    "#y_hat = sigmoid(np.dot(X,w1))\n",
    "\n",
    "# define sigmoid function\n",
    "def sigmoid(dot_product):\n",
    "    output = 1/(1 + np.exp(-dot_product)) \n",
    "    return output"
   ]
  },
  {
   "cell_type": "code",
   "execution_count": 87,
   "metadata": {
    "tags": [
     "outputPrepend"
    ]
   },
   "outputs": [
    {
     "output_type": "execute_result",
     "data": {
      "text/plain": "array([0.0975336 , 0.76124972, 0.24693797, 0.13813169])"
     },
     "metadata": {},
     "execution_count": 87
    }
   ],
   "source": [
    "# the setup\n",
    "np.random.seed(19)\n",
    "y = np.array([0.2]) # output\n",
    "X = np.array([2,2,3,3]) # input\n",
    "w = np.random.rand(4,) # random weights vector\n",
    "epochs = range(20) # epochs to train \n",
    "learning_rate = 2 # seems too high\n",
    "length_of_X = range(len(X)) # for a range\n",
    "n = len(X) # how many elements are there in X vector?\n",
    "error_list = []"
   ]
  },
  {
   "cell_type": "code",
   "execution_count": 82,
   "metadata": {},
   "outputs": [
    {
     "output_type": "stream",
     "name": "stdout",
     "text": "EPOCH: 0\nTARGET: [0.2]\nPREDICTION: 0.9948551702715747\nERROR: [0.63179474]\n-------\nEPOCH: 1\nTARGET: [0.2]\nPREDICTION: 0.9921666120700612\nERROR: [0.62752794]\n-------\nEPOCH: 2\nTARGET: [0.2]\nPREDICTION: 0.9852433529551735\nERROR: [0.61660712]\n-------\nEPOCH: 3\nTARGET: [0.2]\nPREDICTION: 0.9531969079253945\nERROR: [0.56730558]\n-------\nEPOCH: 4\nTARGET: [0.2]\nPREDICTION: 0.382077312797735\nERROR: [0.03315215]\n-------\nEPOCH: 5\nTARGET: [0.2]\nPREDICTION: 0.0070236036624337595\nERROR: [0.03723989]\n-------\nEPOCH: 6\nTARGET: [0.2]\nPREDICTION: 0.008070312782396487\nERROR: [0.036837]\n-------\nEPOCH: 7\nTARGET: [0.2]\nPREDICTION: 0.009455379900121706\nERROR: [0.03630725]\n-------\nEPOCH: 8\nTARGET: [0.2]\nPREDICTION: 0.011361830667911714\nERROR: [0.03558436]\n-------\nEPOCH: 9\nTARGET: [0.2]\nPREDICTION: 0.014123363437243497\nERROR: [0.03455012]\n-------\nEPOCH: 10\nTARGET: [0.2]\nPREDICTION: 0.01840537531554758\nERROR: [0.03297661]\n-------\nEPOCH: 11\nTARGET: [0.2]\nPREDICTION: 0.02569739297335753\nERROR: [0.0303814]\n-------\nEPOCH: 12\nTARGET: [0.2]\nPREDICTION: 0.03986886313439648\nERROR: [0.02564198]\n-------\nEPOCH: 13\nTARGET: [0.2]\nPREDICTION: 0.07283168659512966\nERROR: [0.01617178]\n-------\nEPOCH: 14\nTARGET: [0.2]\nPREDICTION: 0.16098704064766725\nERROR: [0.00152201]\n-------\nEPOCH: 15\nTARGET: [0.2]\nPREDICTION: 0.24920150869531194\nERROR: [0.00242079]\n-------\nEPOCH: 16\nTARGET: [0.2]\nPREDICTION: 0.11301989488957848\nERROR: [0.00756554]\n-------\nEPOCH: 17\nTARGET: [0.2]\nPREDICTION: 0.23986191685954225\nERROR: [0.00158897]\n-------\nEPOCH: 18\nTARGET: [0.2]\nPREDICTION: 0.1290591134937538\nERROR: [0.00503261]\n-------\nEPOCH: 19\nTARGET: [0.2]\nPREDICTION: 0.25350376766127475\nERROR: [0.00286265]\n-------\n"
    }
   ],
   "source": [
    "for epoch in epochs:\n",
    "# FEED FORWARD\n",
    "    print('EPOCH: {}'.format(epoch))\n",
    "    print('TARGET: {}'.format(y))\n",
    "    \n",
    "    # Predicting y\n",
    "    y_hat = np.array(sigmoid(np.dot(X,w)))\n",
    "    print('PREDICTION: {}'.format(y_hat))\n",
    "    # Print weights\n",
    "    #print('WEIGHTS: {}'.format(w))\n",
    "    # How wrong is the prediction? \n",
    "    #It's not the mean squared error because we don't have multiple outputs\n",
    "    se = np.power(np.subtract(y,y_hat),2)\n",
    "    \n",
    "    print('ERROR: {}'.format(se))\n",
    "    error_list.append(se)\n",
    "    # BACKPROPAGATION\n",
    "\n",
    "    # Derivative calculation\n",
    "    chain_1 = np.multiply(np.subtract(y,y_hat),2)\n",
    "    #print('DERIVATIVE#1: {}'.format(chain_1))\n",
    "\n",
    "    chain_2 = np.array(sigmoid(np.dot(X,w))*(1-sigmoid(np.dot(X,w))))\n",
    "    #print('DERIVATIVE#2: {}'.format(chain_2))\n",
    "  \n",
    "    chain_3 = X # the derivative of a*x is a!\n",
    "    #print('DERIVATIVE#3: {}'.format(chain_3))\n",
    "\n",
    "    # DECLARING NEGATIVE GRADIENT (INCLUDING THE LEARNING RATE)\n",
    "    neg_grad = -(chain_1*chain_2*chain_3)*learning_rate\n",
    "    #print('NEGATIVE_GRADIENT: {}'.format(neg_grad))\n",
    "\n",
    "\n",
    "    # UPDATING THE WEIGHTS \n",
    "    w = np.subtract(w,neg_grad)\n",
    "    #print('WEIGHTS: {}'.format(w))\n",
    "    print('-------')   "
   ]
  },
  {
   "cell_type": "code",
   "execution_count": 83,
   "metadata": {},
   "outputs": [
    {
     "output_type": "execute_result",
     "data": {
      "text/plain": "[array([0.63179474]),\n array([0.62752794]),\n array([0.61660712]),\n array([0.56730558]),\n array([0.03315215]),\n array([0.03723989]),\n array([0.036837]),\n array([0.03630725]),\n array([0.03558436]),\n array([0.03455012]),\n array([0.03297661]),\n array([0.0303814]),\n array([0.02564198]),\n array([0.01617178]),\n array([0.00152201]),\n array([0.00242079]),\n array([0.00756554]),\n array([0.00158897]),\n array([0.00503261]),\n array([0.00286265])]"
     },
     "metadata": {},
     "execution_count": 83
    }
   ],
   "source": [
    "error_list"
   ]
  },
  {
   "cell_type": "code",
   "execution_count": null,
   "metadata": {},
   "outputs": [],
   "source": []
  }
 ],
 "metadata": {
  "language_info": {
   "codemirror_mode": {
    "name": "ipython",
    "version": 3
   },
   "file_extension": ".py",
   "mimetype": "text/x-python",
   "name": "python",
   "nbconvert_exporter": "python",
   "pygments_lexer": "ipython3",
   "version": "3.7.7-final"
  },
  "orig_nbformat": 2,
  "kernelspec": {
   "name": "python37764bit91316cca9ced4e81b1e24ff00e487ed4",
   "display_name": "Python 3.7.7 64-bit"
  }
 },
 "nbformat": 4,
 "nbformat_minor": 2
}