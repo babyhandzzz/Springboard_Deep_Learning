{
 "cells": [
  {
   "cell_type": "code",
   "execution_count": 37,
   "metadata": {},
   "outputs": [],
   "source": [
    "import numpy as np\n",
    "#import math\n",
    "np.random.seed(10)"
   ]
  },
  {
   "cell_type": "code",
   "execution_count": 153,
   "metadata": {},
   "outputs": [],
   "source": [
    "# the setup\n",
    "y = np.array([10,2,3,5]) # output\n",
    "X = np.array([50,13,20,100]) # input\n",
    "w1 = np.random.rand(4,) # random weights vector\n",
    "epochs = range(2) # epochs to train \n",
    "learning_rate = 0.1\n",
    "length_of_X = range(len(X)) # for a range\n",
    "n = len(X) # how many elements are there in X vector?"
   ]
  },
  {
   "cell_type": "code",
   "execution_count": 130,
   "metadata": {},
   "outputs": [
    {
     "output_type": "execute_result",
     "data": {
      "text/plain": "array([0.90864888, 0.31923609, 0.09045935, 0.30070006])"
     },
     "metadata": {},
     "execution_count": 130
    }
   ],
   "source": [
    "w1"
   ]
  },
  {
   "cell_type": "code",
   "execution_count": 117,
   "metadata": {},
   "outputs": [],
   "source": [
    "# feed-forward\n",
    "y_hat = sigmoid(np.dot(X,w1))\n",
    "\n",
    "# define sigmoid function\n",
    "def sigmoid(dot_product):\n",
    "    output = 1/(1 + np.exp(-dot_product)) \n",
    "    return output\n",
    "\n",
    "# implementing ReLu\n",
    "def relu(sigmoid_output):\n",
    "    relu_output = np.maximum(0,sigmoid_output)\n",
    "    return relu_output\n",
    "\n",
    "# loss function (MSE)\n",
    "def mse(y,y_hat):\n",
    "    error = (1/length_of_X)*np.sum((y-y_hat))\n",
    "    return error"
   ]
  },
  {
   "cell_type": "code",
   "execution_count": 110,
   "metadata": {},
   "outputs": [],
   "source": [
    "# backpropagation\n",
    "# def gradient\n",
    "\n",
    "chain_1 = 2.0*(y-y_hat) # the derivative of the loss fucntion\n",
    "chain_2 = 1 - (1 + np.exp(-chain_1)) # the derivative of the sigmoid function\n",
    "chain_3 = y\n",
    "\n",
    "minus_gradient = -(chain_1*chain_2*chain_3)"
   ]
  },
  {
   "cell_type": "code",
   "execution_count": 111,
   "metadata": {},
   "outputs": [
    {
     "output_type": "execute_result",
     "data": {
      "text/plain": "array([2.74139635e-06, 5.41341133e-01, 2.19787667e-01, 1.34185051e-02])"
     },
     "metadata": {},
     "execution_count": 111
    }
   ],
   "source": [
    "\"\"\" Sample \"\"\"\n",
    "    \n",
    "    chain_1 = 2.0*(y-y_hat)\n",
    "    chain_2 = 1 - (1 + np.exp2(-chain_1))\n",
    "    chain_3 = y\n",
    "\n",
    "    negative_gradinet = -(chain_1*chain_2*chain_3)\n",
    "    w_1 = w1*(negative_gradinet)"
   ]
  },
  {
   "cell_type": "code",
   "execution_count": 169,
   "metadata": {},
   "outputs": [
    {
     "output_type": "error",
     "ename": "SyntaxError",
     "evalue": "invalid syntax (<ipython-input-169-9aa6b15100fc>, line 24)",
     "traceback": [
      "\u001b[0;36m  File \u001b[0;32m\"<ipython-input-169-9aa6b15100fc>\"\u001b[0;36m, line \u001b[0;32m24\u001b[0m\n\u001b[0;31m    print(negative_gradient)\u001b[0m\n\u001b[0m        ^\u001b[0m\n\u001b[0;31mSyntaxError\u001b[0m\u001b[0;31m:\u001b[0m invalid syntax\n"
     ]
    }
   ],
   "source": [
    "# define the cycle:\n",
    "\n",
    "for epoch in epochs:\n",
    "    for i in length_of_X:\n",
    "        print(\"epoch#{}\".format(epoch))\n",
    "        \n",
    "        # FEED FORWARD\n",
    "        # predict ŷ\n",
    "        y_hat = relu(sigmoid(np.dot(X[i],w1)))\n",
    "        #print('Prediciton :{}'.format(epoch),y_hat)\n",
    "        # calculate MSE y-ŷ\n",
    "        mse = np.sum(np.exp2(np.subtract(y,y_hat)))/n\n",
    "        #print('MSE {} :'.format(epoch),mse) # now we have something to minimize\n",
    "        \n",
    "        # BACKPROPAGATION\n",
    "        chain_1 = 2.0*(np.subtract(y,y_hat)) # chain element #1\n",
    "        print(chain_1)\n",
    "        chain_2 = 1-(1/(1-np.exp(-chain_1))) # chain element #2\n",
    "        print(chain_2)\n",
    "        chain_3 = y\n",
    "        negative_gradient = ????\n",
    "\n",
    "        print(negative_gradient)"
   ]
  }
 ],
 "metadata": {
  "language_info": {
   "codemirror_mode": {
    "name": "ipython",
    "version": 3
   },
   "file_extension": ".py",
   "mimetype": "text/x-python",
   "name": "python",
   "nbconvert_exporter": "python",
   "pygments_lexer": "ipython3",
   "version": "3.7.7-final"
  },
  "orig_nbformat": 2,
  "kernelspec": {
   "name": "python37764bit91316cca9ced4e81b1e24ff00e487ed4",
   "display_name": "Python 3.7.7 64-bit"
  }
 },
 "nbformat": 4,
 "nbformat_minor": 2
}